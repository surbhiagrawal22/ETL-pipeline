{
 "cells": [
  {
   "cell_type": "markdown",
   "metadata": {},
   "source": [
    "# PERFORMING ML, DATA ANALYSIS AND VISUALIZATION IN PYTHON NOTEBOOK\n"
   ]
  },
  {
   "cell_type": "code",
   "execution_count": 1,
   "metadata": {
    "ExecuteTime": {
     "end_time": "2021-05-15T19:23:54.736185Z",
     "start_time": "2021-05-15T19:23:52.257507Z"
    }
   },
   "outputs": [],
   "source": [
    "# importing all neccassary files\n",
    "import pandas as pd \n",
    "import numpy as np\n",
    "import matplotlib.pyplot as plt\n",
    "import seaborn as sns\n",
    "from SQL_query import *  # for connecting to MYSQL database"
   ]
  },
  {
   "cell_type": "code",
   "execution_count": 2,
   "metadata": {
    "ExecuteTime": {
     "end_time": "2021-05-15T19:23:54.897725Z",
     "start_time": "2021-05-15T19:23:54.762666Z"
    }
   },
   "outputs": [
    {
     "name": "stdout",
     "output_type": "stream",
     "text": [
      "connection is successful <mysql.connector.connection.MySQLConnection object at 0x10ee34ca0>\n"
     ]
    }
   ],
   "source": [
    "# connecting to a database using SQL_query.py file \n",
    "connection=create_conenction(host,user,password)\n",
    "cursor=create_cursor(connection)"
   ]
  },
  {
   "cell_type": "code",
   "execution_count": 3,
   "metadata": {
    "ExecuteTime": {
     "end_time": "2021-05-15T19:23:56.606339Z",
     "start_time": "2021-05-15T19:23:56.597538Z"
    }
   },
   "outputs": [],
   "source": [
    "query=\"USE accident\"\n",
    "execute_query(cursor,query,connection) "
   ]
  },
  {
   "cell_type": "markdown",
   "metadata": {},
   "source": [
    "## ML OLAP QUESTIONS ##"
   ]
  },
  {
   "cell_type": "markdown",
   "metadata": {},
   "source": [
    "### As a safety adminstrator , I want to know which pipeline type has caused the oil spills and and do they have relation with cost loss ? ##\n"
   ]
  },
  {
   "cell_type": "code",
   "execution_count": 4,
   "metadata": {
    "ExecuteTime": {
     "end_time": "2021-05-15T19:23:59.068030Z",
     "start_time": "2021-05-15T19:23:58.618122Z"
    }
   },
   "outputs": [
    {
     "name": "stdout",
     "output_type": "stream",
     "text": [
      "     Pipeline_Type         Cost  Spill_Counts\n",
      "0      ABOVEGROUND   153.532553          1475\n",
      "1      UNDERGROUND  2081.297168           985\n",
      "2             TANK    81.382221           301\n",
      "3  TRANSITION AREA     1.014763            16\n"
     ]
    },
    {
     "data": {
      "image/png": "[encoded data removed]",
      "text/plain": [
       "<Figure size 432x288 with 1 Axes>"
      ]
     },
     "metadata": {
      "needs_background": "light"
     },
     "output_type": "display_data"
    }
   ],
   "source": [
    "# Scale costs to $1M for plot clarity \n",
    "\n",
    "query1=\"\"\"SELECT  p.Pipeline_Type, SUM(a.All_Costs)/1000000.0 as Cost,COUNT(*) as Spill_Counts\n",
    "          FROM pipeline_table p \n",
    "          JOIN accident_costs_table a \n",
    "          ON p.Report_Number=a.Report_Number  \n",
    "          WHERE p.Pipeline_Type IS NOT NULL \n",
    "          GROUP BY p.Pipeline_Type\"\"\"\n",
    "df = pd.read_sql(query1,connection)\n",
    "print(df)\n",
    "\n",
    "sns.barplot(x=df[\"Cost\"],y=df[\"Pipeline_Type\"],orient=\"h\",palette=\"Blues\")\n",
    "plt.show()\n"
   ]
  },
  {
   "cell_type": "markdown",
   "metadata": {},
   "source": [
    "Here , we observe that although maximum accidents have taken place in pipelines located ABOVEGROUND but the total cost loss incurred is high in case of pipeline located UNDERGROUND ."
   ]
  },
  {
   "cell_type": "markdown",
   "metadata": {},
   "source": [
    "### As a Accident/Incident Investigators,I want to know which 5 operators/causes are responsible for the most spills so further measure can be taken in these areas?"
   ]
  },
  {
   "cell_type": "code",
   "execution_count": 5,
   "metadata": {
    "ExecuteTime": {
     "end_time": "2021-05-15T19:24:01.937054Z",
     "start_time": "2021-05-15T19:24:01.500748Z"
    }
   },
   "outputs": [
    {
     "name": "stdout",
     "output_type": "stream",
     "text": [
      "                       Operator_Name  Spill_Counts\n",
      "0      ENTERPRISE CRUDE PIPELINE LLC           195\n",
      "1               SUNOCO PIPELINE L.P.           180\n",
      "2              PLAINS PIPELINE, L.P.           156\n",
      "3  ENTERPRISE PRODUCTS OPERATING LLC           155\n",
      "4      MAGELLAN PIPELINE COMPANY, LP           140\n"
     ]
    },
    {
     "data": {
      "image/png": "[encoded data removed]",
      "text/plain": [
       "<Figure size 432x288 with 1 Axes>"
      ]
     },
     "metadata": {
      "needs_background": "light"
     },
     "output_type": "display_data"
    }
   ],
   "source": [
    "# to find top 5 Operators responsible for Oil Spill\n",
    "query1=\"\"\"SELECT Operator_Name,COUNT(*) as Spill_Counts \n",
    "          FROM operator_table \n",
    "          GROUP BY Operator_Name \n",
    "          ORDER BY Spill_Counts DESC LIMIT 5;\"\"\"\n",
    "df = pd.read_sql(query1,connection)\n",
    "print(df)\n",
    "\n",
    "operator_count=df[\"Spill_Counts\"]   \n",
    "pal = sns.color_palette(\"Blues\", len(operator_count))\n",
    "rank = operator_count.argsort()\n",
    "g=sns.barplot(y=df[\"Operator_Name\"], x=operator_count, palette=np.array(pal[::])[rank],)\n",
    "plt.title('Top 5 Most Frequent Spillers (Operator)')\n",
    "plt.ylabel('Number of Spills')\n",
    "plt.tick_params(labelsize=13)\n",
    "plt.xticks(rotation=45)\n",
    "plt.show()"
   ]
  },
  {
   "cell_type": "code",
   "execution_count": 7,
   "metadata": {
    "ExecuteTime": {
     "end_time": "2021-05-15T19:17:26.491277Z",
     "start_time": "2021-05-15T19:17:25.791038Z"
    }
   },
   "outputs": [
    {
     "name": "stdout",
     "output_type": "stream",
     "text": [
      "                Cause_Category  Spill_Counts         Cost\n",
      "0  MATERIAL/WELD/EQUIP FAILURE          1435  1243.774427\n",
      "1                    CORROSION           592   395.325677\n",
      "2          INCORRECT OPERATION           378   106.140454\n",
      "3         NATURAL FORCE DAMAGE           118   220.354295\n",
      "4             ALL OTHER CAUSES           118   110.824821\n"
     ]
    },
    {
     "data": {
      "image/png": "[encoded data removed]",
      "text/plain": [
       "<Figure size 432x288 with 1 Axes>"
      ]
     },
     "metadata": {
      "needs_background": "light"
     },
     "output_type": "display_data"
    }
   ],
   "source": [
    "# to find top 5 Causes responsible for Oil Spill\n",
    "query1=\"\"\"SELECT p.Cause_Category,COUNT(*) as Spill_Counts ,SUM(a.All_Costs)/1000000.0 as Cost\n",
    "          FROM pipeline_table p \n",
    "          JOIN accident_costs_table a \n",
    "          ON p.Report_Number=a.Report_Number\n",
    "          GROUP BY p.Cause_Category \n",
    "          ORDER BY Spill_Counts DESC LIMIT 5;\"\"\"\n",
    "df = pd.read_sql(query1,connection)\n",
    "print(df)\n",
    "\n",
    "total_category_count=df[\"Spill_Counts\"] # data underlying bar plot \n",
    "pal = sns.color_palette(\"Blues\", len(total_category_count))\n",
    "rank = total_category_count.argsort()\n",
    "g=sns.barplot(y=df[\"Cause_Category\"], x=total_category_count, palette=np.array(pal[::])[rank],orient=\"h\")\n",
    "plt.title('Top 5 Most Frequent Spill Causes')\n",
    "plt.ylabel('Number of Spills')\n",
    "plt.tick_params(labelsize=13)\n",
    "plt.xticks(rotation=45)\n",
    "plt.show()"
   ]
  },
  {
   "cell_type": "markdown",
   "metadata": {},
   "source": [
    "### As a new Data Analysts employed ,I want to know which year saw the most accidents and their associated cost ,Fatalities and Injuries."
   ]
  },
  {
   "cell_type": "code",
   "execution_count": 6,
   "metadata": {
    "ExecuteTime": {
     "end_time": "2021-05-15T19:24:03.856507Z",
     "start_time": "2021-05-15T19:24:03.803685Z"
    }
   },
   "outputs": [
    {
     "name": "stdout",
     "output_type": "stream",
     "text": [
      "   Accident_Year  Spill_Counts   Total_Cost  Total_fatalities  Total_injuries\n",
      "0           2010           350  1075.193990               1.0             3.0\n",
      "1           2011           345   273.526547               1.0             2.0\n",
      "2           2012           366   145.247426               3.0             4.0\n",
      "3           2013           401   278.525540               1.0             6.0\n",
      "4           2014           454   131.684524               NaN             NaN\n",
      "5           2015           462   253.696042               1.0             NaN\n",
      "6           2016           415   173.161626               3.0             5.0\n"
     ]
    }
   ],
   "source": [
    "query1=\"\"\"SELECT Accident_Year,COUNT(*) as Spill_Counts ,SUM(All_Costs)/1000000.0 as Total_Cost,SUM(All_Fatalities) as Total_fatalities,SUM(All_Injuries) as Total_injuries\n",
    "        FROM accident_detail \n",
    "        INNER JOIN accident_costs_table USING (Report_Number)\n",
    "        INNER JOIN fatalities USING (Report_Number)\n",
    "        INNER JOIN injuries_table USING (Report_Number)\n",
    "        WHERE Accident_Year!=2017\n",
    "        GROUP BY Accident_Year;\n",
    "     \"\"\"\n",
    "\n",
    "df = pd.read_sql(query1,connection)\n",
    "print(df)\n"
   ]
  },
  {
   "cell_type": "markdown",
   "metadata": {},
   "source": [
    "Here we observce that , the minimum number of Oil Spill Accidents took place in year 2010 but still the Total_cost loss incurred was highest in that year . "
   ]
  },
  {
   "cell_type": "markdown",
   "metadata": {},
   "source": [
    "## Making Prediction "
   ]
  },
  {
   "cell_type": "markdown",
   "metadata": {},
   "source": [
    "### As a businness analyst, I want to predict if on the basis of fatalities,Injuries and total loss incurred , can the Liquid Type be predicted, as in which Liquid cause the the spill can be predicted?"
   ]
  },
  {
   "cell_type": "code",
   "execution_count": 7,
   "metadata": {
    "ExecuteTime": {
     "end_time": "2021-05-15T19:24:06.629372Z",
     "start_time": "2021-05-15T19:24:05.812262Z"
    }
   },
   "outputs": [],
   "source": [
    "import sklearn\n",
    "from sklearn.model_selection import train_test_split\n",
    "from sklearn.preprocessing import LabelEncoder\n",
    "from sklearn.tree import DecisionTreeClassifier\n",
    "from sklearn.ensemble import RandomForestClassifier\n",
    "from sklearn.impute import SimpleImputer\n",
    "from sklearn.metrics import accuracy_score,precision_score,recall_score,mean_absolute_error,classification_report,r2_score"
   ]
  },
  {
   "cell_type": "code",
   "execution_count": 8,
   "metadata": {
    "ExecuteTime": {
     "end_time": "2021-05-15T19:24:08.275620Z",
     "start_time": "2021-05-15T19:24:07.986353Z"
    }
   },
   "outputs": [
    {
     "name": "stdout",
     "output_type": "stream",
     "text": [
      "(2795, 12)\n"
     ]
    }
   ],
   "source": [
    "# reading data from MYSQL and executing query\n",
    "query= \"\"\"SELECT p.Liquid_Type ,a.`Unintentional_Release_(Barrels)`,\n",
    "         a.`Intentional_Release_(Barrels)`,a.`Liquid_Recovery_(Barrels)`,\n",
    "         a.`Net_Loss_(Barrels)`,c.Property_Damage_Costs,c.Lost_Commodity_Costs ,\n",
    "         c.`Public/Private_Property_Damage_Costs`,c.Emergency_Response_Costs,\n",
    "         c.Environmental_Remediation_Costs,c.Other_Costs,c.All_Costs\n",
    "         FROM pipeline_table p,\n",
    "         barrel_table a,\n",
    "         accident_costs_table c\n",
    "         WHERE a.Report_Number=p.Report_Number AND a.Report_Number=c.Report_Number;\n",
    "\"\"\"\n",
    "df = pd.read_sql(query,connection)\n",
    "\n",
    "# printing shape of data and checking if data has correct number fo rows\n",
    "print(df.shape)\n"
   ]
  },
  {
   "cell_type": "code",
   "execution_count": 9,
   "metadata": {
    "ExecuteTime": {
     "end_time": "2021-05-15T19:24:10.159443Z",
     "start_time": "2021-05-15T19:24:10.138335Z"
    }
   },
   "outputs": [
    {
     "name": "stdout",
     "output_type": "stream",
     "text": [
      "<class 'pandas.core.frame.DataFrame'>\n",
      "RangeIndex: 2795 entries, 0 to 2794\n",
      "Data columns (total 12 columns):\n",
      " #   Column                                Non-Null Count  Dtype  \n",
      "---  ------                                --------------  -----  \n",
      " 0   Liquid_Type                           2795 non-null   object \n",
      " 1   Unintentional_Release_(Barrels)       2795 non-null   float64\n",
      " 2   Intentional_Release_(Barrels)         1209 non-null   float64\n",
      " 3   Liquid_Recovery_(Barrels)             2795 non-null   float64\n",
      " 4   Net_Loss_(Barrels)                    2795 non-null   float64\n",
      " 5   Property_Damage_Costs                 2788 non-null   float64\n",
      " 6   Lost_Commodity_Costs                  2791 non-null   float64\n",
      " 7   Public/Private_Property_Damage_Costs  2785 non-null   float64\n",
      " 8   Emergency_Response_Costs              2789 non-null   float64\n",
      " 9   Environmental_Remediation_Costs       2787 non-null   float64\n",
      " 10  Other_Costs                           2779 non-null   float64\n",
      " 11  All_Costs                             2795 non-null   float64\n",
      "dtypes: float64(11), object(1)\n",
      "memory usage: 262.2+ KB\n",
      "None\n"
     ]
    }
   ],
   "source": [
    "# checking for non-null values in dataframe\n",
    "print(df.info())"
   ]
  },
  {
   "cell_type": "code",
   "execution_count": 10,
   "metadata": {
    "ExecuteTime": {
     "end_time": "2021-05-15T19:24:12.590509Z",
     "start_time": "2021-05-15T19:24:12.582576Z"
    }
   },
   "outputs": [],
   "source": [
    "# Since Intentional_Release_(Barrels) has moew than 50 % values as null as understood from df.info(),\n",
    "# we will drop the column\n",
    "df.drop(\"Intentional_Release_(Barrels)\",axis=1,inplace=True)"
   ]
  },
  {
   "cell_type": "code",
   "execution_count": 11,
   "metadata": {
    "ExecuteTime": {
     "end_time": "2021-05-15T19:24:14.158219Z",
     "start_time": "2021-05-15T19:24:14.147927Z"
    }
   },
   "outputs": [
    {
     "name": "stdout",
     "output_type": "stream",
     "text": [
      "Index(['Liquid_Type', 'Unintentional_Release_(Barrels)',\n",
      "       'Liquid_Recovery_(Barrels)', 'Net_Loss_(Barrels)',\n",
      "       'Property_Damage_Costs', 'Lost_Commodity_Costs',\n",
      "       'Public/Private_Property_Damage_Costs', 'Emergency_Response_Costs',\n",
      "       'Environmental_Remediation_Costs', 'Other_Costs', 'All_Costs'],\n",
      "      dtype='object')\n"
     ]
    }
   ],
   "source": [
    "print(df.columns)"
   ]
  },
  {
   "cell_type": "code",
   "execution_count": 12,
   "metadata": {
    "ExecuteTime": {
     "end_time": "2021-05-15T19:24:16.077714Z",
     "start_time": "2021-05-15T19:24:16.059595Z"
    }
   },
   "outputs": [
    {
     "name": "stdout",
     "output_type": "stream",
     "text": [
      "CRUDE OIL                                               1398\n",
      "REFINED AND/OR PETROLEUM PRODUCT (NON-HVL), LIQUID       939\n",
      "HVL OR OTHER FLAMMABLE OR TOXIC FLUID, GAS               418\n",
      "CO2 (CARBON DIOXIDE)                                      38\n",
      "BIOFUEL / ALTERNATIVE FUEL(INCLUDING ETHANOL BLENDS)       2\n",
      "Name: Liquid_Type, dtype: int64\n",
      "[2 4 3 1 0]\n"
     ]
    }
   ],
   "source": [
    "# checking the number of unique values in our target variable\n",
    "print(df[\"Liquid_Type\"].value_counts())\n",
    "\n",
    "\"\"\"Since Rating Text contains text for rating we need to convert it into numerical columns \"\"\" \n",
    "# we can also use Label Encoder for sklearn\n",
    "\n",
    "df[\"Liquid_Type\"]=df[\"Liquid_Type\"].map({\"BIOFUEL / ALTERNATIVE FUEL(INCLUDING ETHANOL BLENDS)\":0,\n",
    "                                         \"CO2 (CARBON DIOXIDE)\" :1,\n",
    "                                         \"HVL OR OTHER FLAMMABLE OR TOXIC FLUID, GAS\":2,\n",
    "                                         \"REFINED AND/OR PETROLEUM PRODUCT (NON-HVL), LIQUID\":3,\n",
    "                                         \"CRUDE OIL\":4 })\n",
    "\n",
    "# checking the unique values if mapping has been done successfully.\n",
    "print(df[\"Liquid_Type\"].unique())"
   ]
  },
  {
   "cell_type": "code",
   "execution_count": 13,
   "metadata": {
    "ExecuteTime": {
     "end_time": "2021-05-15T19:24:17.886710Z",
     "start_time": "2021-05-15T19:24:17.873549Z"
    }
   },
   "outputs": [],
   "source": [
    "# X is a set of independent variables (features) and y is dependent variable (target variable)\n",
    "\n",
    "X = df[['Unintentional_Release_(Barrels)',\n",
    "       'Liquid_Recovery_(Barrels)', 'Net_Loss_(Barrels)',\n",
    "       'Property_Damage_Costs', 'Lost_Commodity_Costs',\n",
    "       'Public/Private_Property_Damage_Costs', 'Emergency_Response_Costs',\n",
    "       'Environmental_Remediation_Costs', 'Other_Costs', 'All_Costs']]\n",
    "y = df[['Liquid_Type']]"
   ]
  },
  {
   "cell_type": "code",
   "execution_count": 14,
   "metadata": {
    "ExecuteTime": {
     "end_time": "2021-05-15T19:24:20.264852Z",
     "start_time": "2021-05-15T19:24:20.245551Z"
    }
   },
   "outputs": [
    {
     "name": "stderr",
     "output_type": "stream",
     "text": [
      "/Users/surbhi/opt/anaconda3/lib/python3.8/site-packages/pandas/core/indexing.py:670: SettingWithCopyWarning: \n",
      "A value is trying to be set on a copy of a slice from a DataFrame\n",
      "\n",
      "See the caveats in the documentation: https://pandas.pydata.org/pandas-docs/stable/user_guide/indexing.html#returning-a-view-versus-a-copy\n",
      "  iloc._setitem_with_indexer(indexer, value)\n",
      "<ipython-input-14-9519679c879c>:6: SettingWithCopyWarning: \n",
      "A value is trying to be set on a copy of a slice from a DataFrame\n",
      "\n",
      "See the caveats in the documentation: https://pandas.pydata.org/pandas-docs/stable/user_guide/indexing.html#returning-a-view-versus-a-copy\n",
      "  X.iloc[:,3:] = imputer.transform(X.iloc[:,3:])\n"
     ]
    }
   ],
   "source": [
    "# Handling missing values is a key part of data preprocessing\n",
    "\n",
    "imputer = SimpleImputer(missing_values=np.nan, strategy='mean') # axis=0 for columns \n",
    "\n",
    "imputer = imputer.fit(X.iloc[:,3:])\n",
    "X.iloc[:,3:] = imputer.transform(X.iloc[:,3:])\n"
   ]
  },
  {
   "cell_type": "code",
   "execution_count": 15,
   "metadata": {
    "ExecuteTime": {
     "end_time": "2021-05-15T19:24:23.100905Z",
     "start_time": "2021-05-15T19:24:23.087358Z"
    }
   },
   "outputs": [
    {
     "name": "stdout",
     "output_type": "stream",
     "text": [
      "Shape of x_train is (2236, 10)\n",
      "Shape of x_test is (559, 10)\n"
     ]
    }
   ],
   "source": [
    "'''Performing train/test split using 80:20 split'''\n",
    "\n",
    "from sklearn.model_selection import train_test_split\n",
    "\n",
    "x_train, x_test, y_train, y_test = train_test_split(X, y, test_size = 0.20, random_state = 100)\n",
    "\n",
    "print(f'Shape of x_train is {x_train.shape}')\n",
    "print(f'Shape of x_test is {x_test.shape}')"
   ]
  },
  {
   "cell_type": "markdown",
   "metadata": {},
   "source": [
    "## Fitting the model using Decision Tree Classifier"
   ]
  },
  {
   "cell_type": "code",
   "execution_count": 16,
   "metadata": {
    "ExecuteTime": {
     "end_time": "2021-05-15T19:24:25.529254Z",
     "start_time": "2021-05-15T19:24:25.485172Z"
    }
   },
   "outputs": [
    {
     "data": {
      "text/plain": [
       "DecisionTreeClassifier()"
      ]
     },
     "execution_count": 16,
     "metadata": {},
     "output_type": "execute_result"
    }
   ],
   "source": [
    "model = DecisionTreeClassifier(criterion = 'gini')\n",
    "model.fit(x_train, y_train)"
   ]
  },
  {
   "cell_type": "code",
   "execution_count": 17,
   "metadata": {
    "ExecuteTime": {
     "end_time": "2021-05-15T19:24:28.327920Z",
     "start_time": "2021-05-15T19:24:28.317689Z"
    }
   },
   "outputs": [
    {
     "name": "stdout",
     "output_type": "stream",
     "text": [
      "Testing accuracy is:  0.5760286225402504\n"
     ]
    }
   ],
   "source": [
    "''' Testing the accuracy using test dataset '''\n",
    "from sklearn.metrics import accuracy_score\n",
    "print('Testing accuracy is: ', accuracy_score(model.predict(x_test), y_test))"
   ]
  },
  {
   "cell_type": "code",
   "execution_count": 18,
   "metadata": {
    "ExecuteTime": {
     "end_time": "2021-05-15T19:24:31.403301Z",
     "start_time": "2021-05-15T19:24:31.392265Z"
    }
   },
   "outputs": [
    {
     "name": "stdout",
     "output_type": "stream",
     "text": [
      "Testing accuracy is:  0.5760286225402504\n"
     ]
    }
   ],
   "source": [
    "print('Testing accuracy is: ', accuracy_score(model.predict(x_test), y_test))"
   ]
  },
  {
   "cell_type": "markdown",
   "metadata": {},
   "source": [
    "### Accuracy is very low at 56% using Decision Tree Classifier"
   ]
  },
  {
   "cell_type": "markdown",
   "metadata": {},
   "source": [
    "## Applying a differnt model RandomForestClassifier to see if accuracy improves"
   ]
  },
  {
   "cell_type": "code",
   "execution_count": 19,
   "metadata": {
    "ExecuteTime": {
     "end_time": "2021-05-15T19:24:35.690027Z",
     "start_time": "2021-05-15T19:24:34.940175Z"
    }
   },
   "outputs": [],
   "source": [
    "#Create a Gaussian Classifier\n",
    "clf=RandomForestClassifier(n_estimators=100)\n",
    "\n",
    "#Train the model using the training sets y_pred=clf.predict(X_test)\n",
    "# https://stackoverflow.com/questions/34165731/a-column-vector-y-was-passed-when-a-1d-array-was-expected\n",
    "\n",
    "clf.fit(x_train,y_train.values.ravel())\n",
    "\n",
    "y_pred=clf.predict(x_test)"
   ]
  },
  {
   "cell_type": "code",
   "execution_count": 20,
   "metadata": {
    "ExecuteTime": {
     "end_time": "2021-05-15T19:24:37.207898Z",
     "start_time": "2021-05-15T19:24:37.200726Z"
    }
   },
   "outputs": [
    {
     "name": "stdout",
     "output_type": "stream",
     "text": [
      "Accuracy: 0.6529516994633273\n"
     ]
    }
   ],
   "source": [
    "# Model Accuracy, how often is the classifier correct?\n",
    "print(\"Accuracy:\",accuracy_score(y_test, y_pred))"
   ]
  },
  {
   "cell_type": "markdown",
   "metadata": {},
   "source": [
    "## Though the accuracy is low in both models, but with the use of Random forest clasifers, accuracy has been improved to 65% ."
   ]
  },
  {
   "cell_type": "code",
   "execution_count": 21,
   "metadata": {
    "ExecuteTime": {
     "end_time": "2021-05-15T19:24:40.856161Z",
     "start_time": "2021-05-15T19:24:40.837081Z"
    }
   },
   "outputs": [
    {
     "name": "stdout",
     "output_type": "stream",
     "text": [
      "              precision    recall  f1-score   support\n",
      "\n",
      "           0       0.00      0.00      0.00         1\n",
      "           1       0.00      0.00      0.00         4\n",
      "           2       0.74      0.79      0.76        75\n",
      "           3       0.58      0.47      0.52       190\n",
      "           4       0.67      0.75      0.71       289\n",
      "\n",
      "    accuracy                           0.65       559\n",
      "   macro avg       0.40      0.40      0.40       559\n",
      "weighted avg       0.64      0.65      0.65       559\n",
      "\n"
     ]
    },
    {
     "name": "stderr",
     "output_type": "stream",
     "text": [
      "/Users/surbhi/opt/anaconda3/lib/python3.8/site-packages/sklearn/metrics/_classification.py:1221: UndefinedMetricWarning: Precision and F-score are ill-defined and being set to 0.0 in labels with no predicted samples. Use `zero_division` parameter to control this behavior.\n",
      "  _warn_prf(average, modifier, msg_start, len(result))\n"
     ]
    }
   ],
   "source": [
    "print(classification_report(y_test, y_pred))"
   ]
  },
  {
   "cell_type": "code",
   "execution_count": null,
   "metadata": {},
   "outputs": [],
   "source": []
  },
  {
   "cell_type": "code",
   "execution_count": null,
   "metadata": {},
   "outputs": [],
   "source": []
  },
  {
   "cell_type": "code",
   "execution_count": null,
   "metadata": {},
   "outputs": [],
   "source": []
  },
  {
   "cell_type": "code",
   "execution_count": null,
   "metadata": {},
   "outputs": [],
   "source": []
  }
 ],
 "metadata": {
  "kernelspec": {
   "display_name": "Python 3",
   "language": "python",
   "name": "python3"
  },
  "language_info": {
   "codemirror_mode": {
    "name": "ipython",
    "version": 3
   },
   "file_extension": ".py",
   "mimetype": "text/x-python",
   "name": "python",
   "nbconvert_exporter": "python",
   "pygments_lexer": "ipython3",
   "version": "3.8.5"
  },
  "toc": {
   "base_numbering": 1,
   "nav_menu": {},
   "number_sections": true,
   "sideBar": true,
   "skip_h1_title": false,
   "title_cell": "Table of Contents",
   "title_sidebar": "Contents",
   "toc_cell": false,
   "toc_position": {},
   "toc_section_display": true,
   "toc_window_display": false
  }
 },
 "nbformat": 4,
 "nbformat_minor": 4
}
